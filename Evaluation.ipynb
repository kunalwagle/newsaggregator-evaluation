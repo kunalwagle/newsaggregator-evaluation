{
 "cells": [
  {
   "cell_type": "code",
   "execution_count": 7,
   "metadata": {
    "collapsed": true
   },
   "outputs": [],
   "source": [
    "from pymongo import MongoClient\n",
    "client = MongoClient('178.62.27.53', 27017)"
   ]
  },
  {
   "cell_type": "code",
   "execution_count": 8,
   "metadata": {
    "collapsed": true
   },
   "outputs": [],
   "source": [
    "db = client.NewsAggregator"
   ]
  },
  {
   "cell_type": "code",
   "execution_count": 9,
   "metadata": {
    "collapsed": true
   },
   "outputs": [],
   "source": [
    "articles = db.articles\n",
    "topics = db.topics\n",
    "clusters = db.summaries\n",
    "digests = db.digests\n",
    "users = db.Users"
   ]
  },
  {
   "cell_type": "markdown",
   "metadata": {},
   "source": [
    "Labelled Articles Percentages"
   ]
  },
  {
   "cell_type": "code",
   "execution_count": 33,
   "metadata": {
    "collapsed": false
   },
   "outputs": [
    {
     "name": "stdout",
     "output_type": "stream",
     "text": [
      "1650\n",
      "1574\n",
      "76\n",
      "95.39393939393939\n"
     ]
    }
   ],
   "source": [
    "june1articles = articles.find({\"LastPublished\" : { \"$regex\" : '^2017-06-01' }})\n",
    "alljune1 = june1articles.count()\n",
    "print(alljune1)\n",
    "\n",
    "labelledjune1articles = articles.find({\"$and\":[{\"LastPublished\" : { \"$regex\" : '^2017-06-01' }},{\"isLabelled\":True}]})                  \n",
    "labelledjune1 = labelledjune1articles.count()\n",
    "print(labelledjune1)\n",
    "\n",
    "print(alljune1-labelledjune1)\n",
    "print((labelledjune1/alljune1)*100)"
   ]
  },
  {
   "cell_type": "code",
   "execution_count": 35,
   "metadata": {
    "collapsed": false
   },
   "outputs": [
    {
     "name": "stdout",
     "output_type": "stream",
     "text": [
      "2249\n",
      "1098\n",
      "1151\n",
      "48.82169853268119\n"
     ]
    }
   ],
   "source": [
    "june2articles = articles.find({\"LastPublished\" : { \"$regex\" : '^2017-06-02' }})\n",
    "alljune2 = june2articles.count()\n",
    "print(alljune2)\n",
    "\n",
    "labelledjune2articles = articles.find({\"$and\":[{\"LastPublished\" : { \"$regex\" : '^2017-06-02' }},{\"isLabelled\":True}]})                  \n",
    "labelledjune2 = labelledjune2articles.count()\n",
    "print(labelledjune2)\n",
    "\n",
    "print(alljune2-labelledjune2)\n",
    "print((labelledjune2/alljune2)*100)"
   ]
  },
  {
   "cell_type": "code",
   "execution_count": 36,
   "metadata": {
    "collapsed": false
   },
   "outputs": [
    {
     "name": "stdout",
     "output_type": "stream",
     "text": [
      "1589\n",
      "1170\n",
      "419\n",
      "73.63121460037759\n"
     ]
    }
   ],
   "source": [
    "june3articles = articles.find({\"LastPublished\" : { \"$regex\" : '^2017-06-03' }})\n",
    "alljune3 = june3articles.count()\n",
    "print(alljune3)\n",
    "\n",
    "labelledjune3articles = articles.find({\"$and\":[{\"LastPublished\" : { \"$regex\" : '^2017-06-03' }},{\"isLabelled\":True}]})                  \n",
    "labelledjune3 = labelledjune3articles.count()\n",
    "print(labelledjune3)\n",
    "\n",
    "print(alljune3-labelledjune3)\n",
    "print((labelledjune3/alljune3)*100)"
   ]
  },
  {
   "cell_type": "code",
   "execution_count": 37,
   "metadata": {
    "collapsed": false
   },
   "outputs": [
    {
     "name": "stdout",
     "output_type": "stream",
     "text": [
      "1317\n",
      "926\n",
      "391\n",
      "70.31131359149583\n"
     ]
    }
   ],
   "source": [
    "june5articles = articles.find({\"LastPublished\" : { \"$regex\" : '^2017-06-05' }})\n",
    "alljune5 = june5articles.count()\n",
    "print(alljune5)\n",
    "\n",
    "labelledjune5articles = articles.find({\"$and\":[{\"LastPublished\" : { \"$regex\" : '^2017-06-05' }},{\"isLabelled\":True}]})                  \n",
    "labelledjune5 = labelledjune5articles.count()\n",
    "print(labelledjune5)\n",
    "\n",
    "print(alljune5-labelledjune5)\n",
    "print((labelledjune5/alljune5)*100)"
   ]
  },
  {
   "cell_type": "code",
   "execution_count": 38,
   "metadata": {
    "collapsed": false
   },
   "outputs": [
    {
     "name": "stdout",
     "output_type": "stream",
     "text": [
      "1300\n",
      "947\n",
      "353\n",
      "72.84615384615385\n"
     ]
    }
   ],
   "source": [
    "june5articles = articles.find({\"LastPublished\" : { \"$regex\" : '^2017-06-05' }})\n",
    "alljune5 = june5articles.count()\n",
    "print(alljune5)\n",
    "\n",
    "labelledjune5articles = articles.find({\"$and\":[{\"LastPublished\" : { \"$regex\" : '^2017-06-05' }},{\"isLabelled\":True}]})                  \n",
    "labelledjune5 = labelledjune5articles.count()\n",
    "print(labelledjune5)\n",
    "\n",
    "print(alljune5-labelledjune5)\n",
    "print((labelledjune5/alljune5)*100)"
   ]
  },
  {
   "cell_type": "code",
   "execution_count": 39,
   "metadata": {
    "collapsed": false
   },
   "outputs": [
    {
     "name": "stdout",
     "output_type": "stream",
     "text": [
      "8138\n",
      "5739\n",
      "2399\n",
      "70.52101253379209\n"
     ]
    }
   ],
   "source": [
    "allarticles = articles.count()\n",
    "print(allarticles)\n",
    "\n",
    "alllabelledarticles = articles.find({\"isLabelled\":True})                  \n",
    "alllabelled = alllabelledarticles.count()\n",
    "print(alllabelled)\n",
    "\n",
    "print(allarticles-alllabelled)\n",
    "print((alllabelled/allarticles)*100)"
   ]
  },
  {
   "cell_type": "markdown",
   "metadata": {},
   "source": [
    "Clustered topics percentages"
   ]
  },
  {
   "cell_type": "code",
   "execution_count": 44,
   "metadata": {
    "collapsed": false
   },
   "outputs": [
    {
     "name": "stdout",
     "output_type": "stream",
     "text": [
      "47088\n",
      "15410\n",
      "31678\n",
      "32.72595990485899\n"
     ]
    }
   ],
   "source": [
    "topiccount = topics.count()\n",
    "print(topiccount)\n",
    "\n",
    "clusteredtopics = topics.find({\"NeedsClustering\":False})\n",
    "clusteredtopiccount = clusteredtopics.count()\n",
    "print(clusteredtopiccount)\n",
    "\n",
    "print(topiccount-clusteredtopiccount)\n",
    "print((clusteredtopiccount/topiccount)*100)"
   ]
  },
  {
   "cell_type": "code",
   "execution_count": 54,
   "metadata": {
    "collapsed": false
   },
   "outputs": [
    {
     "name": "stdout",
     "output_type": "stream",
     "text": [
      "[{'_id': 'null', 'count': 4.437234280599687}]\n"
     ]
    }
   ],
   "source": [
    "unclustered = topics.aggregate([\n",
    "   {\n",
    "        \"$match\":{ \"$and\":[{\"NeedsClustering\": False},{\"Articles.1\":{\"$exists\":True}}]} \n",
    "   },\n",
    "   {\n",
    "        \"$project\": {\n",
    "            \"arraysize\": { \"$size\": \"$Articles\" }\n",
    "         }\n",
    "    },\n",
    "    {\n",
    "          \"$group\": {\n",
    "              \"_id\": \"null\",\n",
    "              \"count\": {\n",
    "                  \"$avg\": \"$arraysize\"\n",
    "              }\n",
    "          }\n",
    "    }\n",
    "])\n",
    "\n",
    "pprint.pprint(list(unclustered))\n"
   ]
  },
  {
   "cell_type": "code",
   "execution_count": 55,
   "metadata": {
    "collapsed": false
   },
   "outputs": [
    {
     "name": "stdout",
     "output_type": "stream",
     "text": [
      "[{'_id': 'null', 'count': 7.761116408078356}]\n"
     ]
    }
   ],
   "source": [
    "clustered = topics.aggregate([\n",
    "   {\n",
    "        \"$match\":{ \"$and\":[{\"NeedsClustering\": True},{\"Articles.1\":{\"$exists\":True}}]} \n",
    "   },\n",
    "   {\n",
    "        \"$project\": {\n",
    "            \"arraysize\": { \"$size\": \"$Articles\" }\n",
    "         }\n",
    "    },\n",
    "    {\n",
    "          \"$group\": {\n",
    "              \"_id\": \"null\",\n",
    "              \"count\": {\n",
    "                  \"$avg\": \"$arraysize\"\n",
    "              }\n",
    "          }\n",
    "    }\n",
    "])\n",
    "\n",
    "pprint.pprint(list(clustered))"
   ]
  },
  {
   "cell_type": "code",
   "execution_count": 56,
   "metadata": {
    "collapsed": false
   },
   "outputs": [
    {
     "name": "stdout",
     "output_type": "stream",
     "text": [
      "[{'_id': 'null', 'count': 2.3859491105606847}]\n"
     ]
    }
   ],
   "source": [
    "unclustered = topics.aggregate([\n",
    "   {\n",
    "        \"$match\":{ \"$and\":[{\"NeedsClustering\": False},{\"Articles.1\":{\"$exists\":True}}]} \n",
    "   },\n",
    "   {\n",
    "        \"$project\": {\n",
    "            \"arraysize\": { \"$size\": \"$Clusters\" }\n",
    "         }\n",
    "    },\n",
    "    {\n",
    "          \"$group\": {\n",
    "              \"_id\": \"null\",\n",
    "              \"count\": {\n",
    "                  \"$avg\": \"$arraysize\"\n",
    "              }\n",
    "          }\n",
    "    }\n",
    "])\n",
    "\n",
    "pprint.pprint(list(unclustered))"
   ]
  },
  {
   "cell_type": "code",
   "execution_count": 57,
   "metadata": {
    "collapsed": false
   },
   "outputs": [
    {
     "name": "stdout",
     "output_type": "stream",
     "text": [
      "[{'_id': 'null', 'count': 2.2890368320940686}]\n"
     ]
    }
   ],
   "source": [
    "clustered = topics.aggregate([\n",
    "   {\n",
    "        \"$match\":{ \"$and\":[{\"NeedsClustering\": True},{\"Articles.1\":{\"$exists\":True}}]} \n",
    "   },\n",
    "   {\n",
    "        \"$project\": {\n",
    "            \"arraysize\": { \"$size\": \"$Clusters\" }\n",
    "         }\n",
    "    },\n",
    "    {\n",
    "          \"$group\": {\n",
    "              \"_id\": \"null\",\n",
    "              \"count\": {\n",
    "                  \"$avg\": \"$arraysize\"\n",
    "              }\n",
    "          }\n",
    "    }\n",
    "])\n",
    "\n",
    "pprint.pprint(list(clustered))"
   ]
  },
  {
   "cell_type": "code",
   "execution_count": null,
   "metadata": {
    "collapsed": true
   },
   "outputs": [],
   "source": []
  },
  {
   "cell_type": "code",
   "execution_count": null,
   "metadata": {
    "collapsed": true
   },
   "outputs": [],
   "source": []
  },
  {
   "cell_type": "code",
   "execution_count": null,
   "metadata": {
    "collapsed": true
   },
   "outputs": [],
   "source": []
  },
  {
   "cell_type": "code",
   "execution_count": null,
   "metadata": {
    "collapsed": true
   },
   "outputs": [],
   "source": []
  },
  {
   "cell_type": "code",
   "execution_count": null,
   "metadata": {
    "collapsed": true
   },
   "outputs": [],
   "source": []
  },
  {
   "cell_type": "code",
   "execution_count": null,
   "metadata": {
    "collapsed": true
   },
   "outputs": [],
   "source": []
  },
  {
   "cell_type": "code",
   "execution_count": null,
   "metadata": {
    "collapsed": true
   },
   "outputs": [],
   "source": []
  },
  {
   "cell_type": "code",
   "execution_count": null,
   "metadata": {
    "collapsed": true
   },
   "outputs": [],
   "source": []
  },
  {
   "cell_type": "code",
   "execution_count": null,
   "metadata": {
    "collapsed": true
   },
   "outputs": [],
   "source": []
  },
  {
   "cell_type": "code",
   "execution_count": null,
   "metadata": {
    "collapsed": true
   },
   "outputs": [],
   "source": []
  },
  {
   "cell_type": "code",
   "execution_count": null,
   "metadata": {
    "collapsed": true
   },
   "outputs": [],
   "source": []
  },
  {
   "cell_type": "code",
   "execution_count": null,
   "metadata": {
    "collapsed": true
   },
   "outputs": [],
   "source": []
  },
  {
   "cell_type": "code",
   "execution_count": null,
   "metadata": {
    "collapsed": true
   },
   "outputs": [],
   "source": []
  },
  {
   "cell_type": "code",
   "execution_count": null,
   "metadata": {
    "collapsed": true
   },
   "outputs": [],
   "source": []
  },
  {
   "cell_type": "code",
   "execution_count": null,
   "metadata": {
    "collapsed": true
   },
   "outputs": [],
   "source": []
  },
  {
   "cell_type": "code",
   "execution_count": null,
   "metadata": {
    "collapsed": true
   },
   "outputs": [],
   "source": []
  },
  {
   "cell_type": "code",
   "execution_count": null,
   "metadata": {
    "collapsed": true
   },
   "outputs": [],
   "source": []
  },
  {
   "cell_type": "code",
   "execution_count": null,
   "metadata": {
    "collapsed": true
   },
   "outputs": [],
   "source": []
  },
  {
   "cell_type": "code",
   "execution_count": null,
   "metadata": {
    "collapsed": true
   },
   "outputs": [],
   "source": []
  },
  {
   "cell_type": "code",
   "execution_count": null,
   "metadata": {
    "collapsed": true
   },
   "outputs": [],
   "source": []
  },
  {
   "cell_type": "code",
   "execution_count": null,
   "metadata": {
    "collapsed": true
   },
   "outputs": [],
   "source": []
  },
  {
   "cell_type": "code",
   "execution_count": null,
   "metadata": {
    "collapsed": true
   },
   "outputs": [],
   "source": []
  },
  {
   "cell_type": "code",
   "execution_count": null,
   "metadata": {
    "collapsed": true
   },
   "outputs": [],
   "source": []
  },
  {
   "cell_type": "code",
   "execution_count": null,
   "metadata": {
    "collapsed": true
   },
   "outputs": [],
   "source": []
  },
  {
   "cell_type": "code",
   "execution_count": null,
   "metadata": {
    "collapsed": true
   },
   "outputs": [],
   "source": []
  },
  {
   "cell_type": "code",
   "execution_count": null,
   "metadata": {
    "collapsed": true
   },
   "outputs": [],
   "source": []
  },
  {
   "cell_type": "code",
   "execution_count": null,
   "metadata": {
    "collapsed": true
   },
   "outputs": [],
   "source": []
  },
  {
   "cell_type": "code",
   "execution_count": null,
   "metadata": {
    "collapsed": true
   },
   "outputs": [],
   "source": []
  },
  {
   "cell_type": "code",
   "execution_count": null,
   "metadata": {
    "collapsed": true
   },
   "outputs": [],
   "source": []
  },
  {
   "cell_type": "code",
   "execution_count": null,
   "metadata": {
    "collapsed": true
   },
   "outputs": [],
   "source": []
  },
  {
   "cell_type": "code",
   "execution_count": null,
   "metadata": {
    "collapsed": true
   },
   "outputs": [],
   "source": []
  },
  {
   "cell_type": "code",
   "execution_count": null,
   "metadata": {
    "collapsed": true
   },
   "outputs": [],
   "source": []
  },
  {
   "cell_type": "code",
   "execution_count": null,
   "metadata": {
    "collapsed": true
   },
   "outputs": [],
   "source": []
  },
  {
   "cell_type": "code",
   "execution_count": null,
   "metadata": {
    "collapsed": true
   },
   "outputs": [],
   "source": []
  },
  {
   "cell_type": "code",
   "execution_count": null,
   "metadata": {
    "collapsed": true
   },
   "outputs": [],
   "source": []
  },
  {
   "cell_type": "code",
   "execution_count": null,
   "metadata": {
    "collapsed": true
   },
   "outputs": [],
   "source": []
  },
  {
   "cell_type": "code",
   "execution_count": null,
   "metadata": {
    "collapsed": true
   },
   "outputs": [],
   "source": []
  },
  {
   "cell_type": "code",
   "execution_count": null,
   "metadata": {
    "collapsed": true
   },
   "outputs": [],
   "source": []
  },
  {
   "cell_type": "code",
   "execution_count": null,
   "metadata": {
    "collapsed": true
   },
   "outputs": [],
   "source": []
  }
 ],
 "metadata": {
  "kernelspec": {
   "display_name": "Python 3",
   "language": "python",
   "name": "python3"
  },
  "language_info": {
   "codemirror_mode": {
    "name": "ipython",
    "version": 3
   },
   "file_extension": ".py",
   "mimetype": "text/x-python",
   "name": "python",
   "nbconvert_exporter": "python",
   "pygments_lexer": "ipython3",
   "version": "3.6.0"
  }
 },
 "nbformat": 4,
 "nbformat_minor": 2
}
