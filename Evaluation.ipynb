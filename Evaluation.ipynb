{
 "cells": [
  {
   "cell_type": "code",
   "execution_count": 114,
   "metadata": {
    "collapsed": true
   },
   "outputs": [],
   "source": [
    "from pymongo import MongoClient\n",
    "client = MongoClient('178.62.27.53', 27017)"
   ]
  },
  {
   "cell_type": "code",
   "execution_count": null,
   "metadata": {
    "collapsed": true
   },
   "outputs": [],
   "source": []
  },
  {
   "cell_type": "code",
   "execution_count": 59,
   "metadata": {
    "collapsed": true
   },
   "outputs": [],
   "source": [
    "db = client.NewsAggregator"
   ]
  },
  {
   "cell_type": "code",
   "execution_count": 60,
   "metadata": {
    "collapsed": true
   },
   "outputs": [],
   "source": [
    "articles = db.articles\n",
    "topics = db.topics\n",
    "clusters = db.summaries\n",
    "digests = db.digests\n",
    "users = db.Users"
   ]
  },
  {
   "cell_type": "markdown",
   "metadata": {},
   "source": [
    "Labelled Articles Percentages"
   ]
  },
  {
   "cell_type": "code",
   "execution_count": 61,
   "metadata": {
    "collapsed": false
   },
   "outputs": [
    {
     "name": "stdout",
     "output_type": "stream",
     "text": [
      "1650\n",
      "1636\n",
      "14\n",
      "99.15151515151514\n"
     ]
    }
   ],
   "source": [
    "june1articles = articles.find({\"LastPublished\" : { \"$regex\" : '^2017-06-01' }})\n",
    "alljune1 = june1articles.count()\n",
    "print(alljune1)\n",
    "\n",
    "labelledjune1articles = articles.find({\"$and\":[{\"LastPublished\" : { \"$regex\" : '^2017-06-01' }},{\"isLabelled\":True}]})                  \n",
    "labelledjune1 = labelledjune1articles.count()\n",
    "print(labelledjune1)\n",
    "\n",
    "print(alljune1-labelledjune1)\n",
    "print((labelledjune1/alljune1)*100)"
   ]
  },
  {
   "cell_type": "code",
   "execution_count": 62,
   "metadata": {
    "collapsed": false
   },
   "outputs": [
    {
     "name": "stdout",
     "output_type": "stream",
     "text": [
      "2249\n",
      "1139\n",
      "1110\n",
      "50.6447309915518\n"
     ]
    }
   ],
   "source": [
    "june2articles = articles.find({\"LastPublished\" : { \"$regex\" : '^2017-06-02' }})\n",
    "alljune2 = june2articles.count()\n",
    "print(alljune2)\n",
    "\n",
    "labelledjune2articles = articles.find({\"$and\":[{\"LastPublished\" : { \"$regex\" : '^2017-06-02' }},{\"isLabelled\":True}]})                  \n",
    "labelledjune2 = labelledjune2articles.count()\n",
    "print(labelledjune2)\n",
    "\n",
    "print(alljune2-labelledjune2)\n",
    "print((labelledjune2/alljune2)*100)"
   ]
  },
  {
   "cell_type": "code",
   "execution_count": 63,
   "metadata": {
    "collapsed": false
   },
   "outputs": [
    {
     "name": "stdout",
     "output_type": "stream",
     "text": [
      "1589\n",
      "1170\n",
      "419\n",
      "73.63121460037759\n"
     ]
    }
   ],
   "source": [
    "june3articles = articles.find({\"LastPublished\" : { \"$regex\" : '^2017-06-03' }})\n",
    "alljune3 = june3articles.count()\n",
    "print(alljune3)\n",
    "\n",
    "labelledjune3articles = articles.find({\"$and\":[{\"LastPublished\" : { \"$regex\" : '^2017-06-03' }},{\"isLabelled\":True}]})                  \n",
    "labelledjune3 = labelledjune3articles.count()\n",
    "print(labelledjune3)\n",
    "\n",
    "print(alljune3-labelledjune3)\n",
    "print((labelledjune3/alljune3)*100)"
   ]
  },
  {
   "cell_type": "code",
   "execution_count": 64,
   "metadata": {
    "collapsed": false
   },
   "outputs": [
    {
     "name": "stdout",
     "output_type": "stream",
     "text": [
      "1976\n",
      "1335\n",
      "641\n",
      "67.56072874493927\n"
     ]
    }
   ],
   "source": [
    "june5articles = articles.find({\"LastPublished\" : { \"$regex\" : '^2017-06-05' }})\n",
    "alljune5 = june5articles.count()\n",
    "print(alljune5)\n",
    "\n",
    "labelledjune5articles = articles.find({\"$and\":[{\"LastPublished\" : { \"$regex\" : '^2017-06-05' }},{\"isLabelled\":True}]})                  \n",
    "labelledjune5 = labelledjune5articles.count()\n",
    "print(labelledjune5)\n",
    "\n",
    "print(alljune5-labelledjune5)\n",
    "print((labelledjune5/alljune5)*100)"
   ]
  },
  {
   "cell_type": "code",
   "execution_count": 65,
   "metadata": {
    "collapsed": false
   },
   "outputs": [
    {
     "name": "stdout",
     "output_type": "stream",
     "text": [
      "1976\n",
      "1335\n",
      "641\n",
      "67.56072874493927\n"
     ]
    }
   ],
   "source": [
    "june5articles = articles.find({\"LastPublished\" : { \"$regex\" : '^2017-06-05' }})\n",
    "alljune5 = june5articles.count()\n",
    "print(alljune5)\n",
    "\n",
    "labelledjune5articles = articles.find({\"$and\":[{\"LastPublished\" : { \"$regex\" : '^2017-06-05' }},{\"isLabelled\":True}]})                  \n",
    "labelledjune5 = labelledjune5articles.count()\n",
    "print(labelledjune5)\n",
    "\n",
    "print(alljune5-labelledjune5)\n",
    "print((labelledjune5/alljune5)*100)"
   ]
  },
  {
   "cell_type": "code",
   "execution_count": 66,
   "metadata": {
    "collapsed": false
   },
   "outputs": [
    {
     "name": "stdout",
     "output_type": "stream",
     "text": [
      "8815\n",
      "6229\n",
      "2586\n",
      "70.66364152013614\n"
     ]
    }
   ],
   "source": [
    "allarticles = articles.count()\n",
    "print(allarticles)\n",
    "\n",
    "alllabelledarticles = articles.find({\"isLabelled\":True})                  \n",
    "alllabelled = alllabelledarticles.count()\n",
    "print(alllabelled)\n",
    "\n",
    "print(allarticles-alllabelled)\n",
    "print((alllabelled/allarticles)*100)"
   ]
  },
  {
   "cell_type": "markdown",
   "metadata": {},
   "source": [
    "Clustered topics percentages"
   ]
  },
  {
   "cell_type": "code",
   "execution_count": 67,
   "metadata": {
    "collapsed": false
   },
   "outputs": [
    {
     "name": "stdout",
     "output_type": "stream",
     "text": [
      "49109\n",
      "15420\n",
      "33689\n",
      "31.399539799222136\n"
     ]
    }
   ],
   "source": [
    "topiccount = topics.count()\n",
    "print(topiccount)\n",
    "\n",
    "clusteredtopics = topics.find({\"NeedsClustering\":False})\n",
    "clusteredtopiccount = clusteredtopics.count()\n",
    "print(clusteredtopiccount)\n",
    "\n",
    "print(topiccount-clusteredtopiccount)\n",
    "print((clusteredtopiccount/topiccount)*100)"
   ]
  },
  {
   "cell_type": "code",
   "execution_count": 68,
   "metadata": {
    "collapsed": false
   },
   "outputs": [
    {
     "name": "stdout",
     "output_type": "stream",
     "text": [
      "[{'_id': 'null', 'count': 4.312315717849852}]\n"
     ]
    }
   ],
   "source": [
    "unclustered = topics.aggregate([\n",
    "   {\n",
    "        \"$match\":{ \"$and\":[{\"NeedsClustering\": False},{\"Articles.1\":{\"$exists\":True}}]} \n",
    "   },\n",
    "   {\n",
    "        \"$project\": {\n",
    "            \"arraysize\": { \"$size\": \"$Articles\" }\n",
    "         }\n",
    "    },\n",
    "    {\n",
    "          \"$group\": {\n",
    "              \"_id\": \"null\",\n",
    "              \"count\": {\n",
    "                  \"$avg\": \"$arraysize\"\n",
    "              }\n",
    "          }\n",
    "    }\n",
    "])\n",
    "\n",
    "pprint.pprint(list(unclustered))\n"
   ]
  },
  {
   "cell_type": "code",
   "execution_count": 69,
   "metadata": {
    "collapsed": false
   },
   "outputs": [
    {
     "name": "stdout",
     "output_type": "stream",
     "text": [
      "[{'_id': 'null', 'count': 7.7420523138833}]\n"
     ]
    }
   ],
   "source": [
    "clustered = topics.aggregate([\n",
    "   {\n",
    "        \"$match\":{ \"$and\":[{\"NeedsClustering\": True},{\"Articles.1\":{\"$exists\":True}}]} \n",
    "   },\n",
    "   {\n",
    "        \"$project\": {\n",
    "            \"arraysize\": { \"$size\": \"$Articles\" }\n",
    "         }\n",
    "    },\n",
    "    {\n",
    "          \"$group\": {\n",
    "              \"_id\": \"null\",\n",
    "              \"count\": {\n",
    "                  \"$avg\": \"$arraysize\"\n",
    "              }\n",
    "          }\n",
    "    }\n",
    "])\n",
    "\n",
    "pprint.pprint(list(clustered))"
   ]
  },
  {
   "cell_type": "code",
   "execution_count": 70,
   "metadata": {
    "collapsed": false
   },
   "outputs": [
    {
     "name": "stdout",
     "output_type": "stream",
     "text": [
      "[{'_id': 'null', 'count': 2.3220684962576548}]\n"
     ]
    }
   ],
   "source": [
    "unclustered = topics.aggregate([\n",
    "   {\n",
    "        \"$match\":{ \"$and\":[{\"NeedsClustering\": False},{\"Articles.1\":{\"$exists\":True}}]} \n",
    "   },\n",
    "   {\n",
    "        \"$project\": {\n",
    "            \"arraysize\": { \"$size\": \"$Clusters\" }\n",
    "         }\n",
    "    },\n",
    "    {\n",
    "          \"$group\": {\n",
    "              \"_id\": \"null\",\n",
    "              \"count\": {\n",
    "                  \"$avg\": \"$arraysize\"\n",
    "              }\n",
    "          }\n",
    "    }\n",
    "])\n",
    "\n",
    "pprint.pprint(list(unclustered))"
   ]
  },
  {
   "cell_type": "code",
   "execution_count": 71,
   "metadata": {
    "collapsed": false
   },
   "outputs": [
    {
     "name": "stdout",
     "output_type": "stream",
     "text": [
      "[{'_id': 'null', 'count': 2.252877263581489}]\n"
     ]
    }
   ],
   "source": [
    "clustered = topics.aggregate([\n",
    "   {\n",
    "        \"$match\":{ \"$and\":[{\"NeedsClustering\": True},{\"Articles.1\":{\"$exists\":True}}]} \n",
    "   },\n",
    "   {\n",
    "        \"$project\": {\n",
    "            \"arraysize\": { \"$size\": \"$Clusters\" }\n",
    "         }\n",
    "    },\n",
    "    {\n",
    "          \"$group\": {\n",
    "              \"_id\": \"null\",\n",
    "              \"count\": {\n",
    "                  \"$avg\": \"$arraysize\"\n",
    "              }\n",
    "          }\n",
    "    }\n",
    "])\n",
    "\n",
    "pprint.pprint(list(clustered))"
   ]
  },
  {
   "cell_type": "code",
   "execution_count": 100,
   "metadata": {
    "collapsed": false
   },
   "outputs": [
    {
     "name": "stdout",
     "output_type": "stream",
     "text": [
      "2633\n",
      "8856\n",
      "29.731255645889792\n",
      "42.14823115095246\n"
     ]
    }
   ],
   "source": [
    "summarisedarticles = clusters.aggregate([\n",
    "    {\"$unwind\":\"$Articles\"},\n",
    "    {\"$group\": {\n",
    "        \"_id\": \"$Articles\"\n",
    "    }}\n",
    "])\n",
    "summarisedarticlescount = sum(1 for _ in summarisedarticles)\n",
    "print(summarisedarticlescount)\n",
    "print(articles.count())\n",
    "print((summarisedarticlescount/articles.count())*100)\n",
    "print((summarisedarticlescount/alllabelledarticles.count())*100)"
   ]
  },
  {
   "cell_type": "code",
   "execution_count": 102,
   "metadata": {
    "collapsed": false
   },
   "outputs": [
    {
     "data": {
      "text/plain": [
       "3739"
      ]
     },
     "execution_count": 102,
     "metadata": {},
     "output_type": "execute_result"
    }
   ],
   "source": [
    "clusters.count()"
   ]
  },
  {
   "cell_type": "code",
   "execution_count": 122,
   "metadata": {
    "collapsed": false
   },
   "outputs": [
    {
     "data": {
      "text/plain": [
       "<pymongo.command_cursor.CommandCursor at 0x111335908>"
      ]
     },
     "execution_count": 122,
     "metadata": {},
     "output_type": "execute_result"
    }
   ],
   "source": [
    "clusters.aggregate([\n",
    "  {\"$project\": { \"_id\": 0, \"Articles\": 1 } },\n",
    "  {\"$unwind\": \"$Articles\" },\n",
    "  {\"$group\": { \"_id\": \"$Articles\", \"tags\": { \"$sum\": 1 } }},\n",
    "  {\"$project\": { \"_id\": 0,\"Articles\": \"$_id\", \"tags\": 1 } },\n",
    "    {\"$sort\": { \"tags\": -1 } }\n",
    "])\n"
   ]
  },
  {
   "cell_type": "markdown",
   "metadata": {},
   "source": [
    "Queries for getting articles"
   ]
  },
  {
   "cell_type": "code",
   "execution_count": 130,
   "metadata": {
    "collapsed": false
   },
   "outputs": [],
   "source": [
    "guardianQuery = clusters.aggregate([\n",
    "    {\n",
    "        \"$unwind\":\"$Articles\"\n",
    "    },\n",
    "    {\n",
    "        \"$lookup\":{\n",
    "            \"from\":\"articles\",\n",
    "            \"localField\":\"Articles\",\n",
    "            \"foreignField\":\"_id\",\n",
    "            \"as\":\"article\"\n",
    "        }\n",
    "    },\n",
    "    {\n",
    "        \"$match\":{\n",
    "            \"article.Source\":\"the-guardian-uk\"\n",
    "        }\n",
    "    },\n",
    "    {\"$group\": { \"_id\": \"$_id\"}},\n",
    "    {\"$project\": { \"_id\": 1,\"Articles\": \"$_id\"} }\n",
    "])\n",
    "\n",
    "guardianSummaries = list(map(lambda art: art[\"Articles\"], list(guardianQuery)))\n"
   ]
  },
  {
   "cell_type": "code",
   "execution_count": 153,
   "metadata": {
    "collapsed": false
   },
   "outputs": [],
   "source": [
    "dmQuery = clusters.aggregate([\n",
    "    {\n",
    "        \"$unwind\":\"$Articles\"\n",
    "    },\n",
    "    {\n",
    "        \"$lookup\":{\n",
    "            \"from\":\"articles\",\n",
    "            \"localField\":\"Articles\",\n",
    "            \"foreignField\":\"_id\",\n",
    "            \"as\":\"article\"\n",
    "        }\n",
    "    },\n",
    "    {\n",
    "        \"$match\":{\n",
    "            \"article.Source\":\"daily-mail\"\n",
    "        }\n",
    "    },\n",
    "    {\"$group\": { \"_id\": \"$_id\"}},\n",
    "    {\"$project\": { \"_id\": 1,\"Articles\": \"$_id\"} }\n",
    "])\n",
    "\n",
    "dmSummaries = list(map(lambda art: art[\"Articles\"], list(dmQuery)))\n"
   ]
  },
  {
   "cell_type": "code",
   "execution_count": null,
   "metadata": {
    "collapsed": true
   },
   "outputs": [],
   "source": []
  },
  {
   "cell_type": "code",
   "execution_count": null,
   "metadata": {
    "collapsed": true
   },
   "outputs": [],
   "source": []
  },
  {
   "cell_type": "code",
   "execution_count": null,
   "metadata": {
    "collapsed": true
   },
   "outputs": [],
   "source": []
  },
  {
   "cell_type": "code",
   "execution_count": 160,
   "metadata": {
    "collapsed": false
   },
   "outputs": [],
   "source": [
    "dmgSummaries = list(set(dmSummaries) & set(guardianSummaries))\n",
    "\n",
    "dmgQuery = clusters.find({\n",
    "    \"$and\":[\n",
    "        {\n",
    "            \"_id\":{\n",
    "                \"$in\":dmgSummaries\n",
    "            }\n",
    "        }, \n",
    "        {\n",
    "            \"Articles.2\":{\n",
    "                \"$exists\":False\n",
    "            }\n",
    "        }\n",
    "    ]\n",
    "})\n",
    "\n",
    "dmgArticles = list(dmgQuery)"
   ]
  },
  {
   "cell_type": "code",
   "execution_count": 173,
   "metadata": {
    "collapsed": false
   },
   "outputs": [
    {
     "name": "stdout",
     "output_type": "stream",
     "text": [
      "summary length  14\n"
     ]
    }
   ],
   "source": [
    "import json\n",
    "\n",
    "dmgsumms = list(map(lambda art: json.loads(art[\"Summaries\"]), dmgArticles))\n",
    "\n",
    "dmgfilteredsumms = []\n",
    "\n",
    "for val in dmgsumms:\n",
    "    for key in val:\n",
    "        if (\"dailymail\" in key) & (\"guardian\" in key):\n",
    "            dmgfilteredsumms.append(val[key])"
   ]
  },
  {
   "cell_type": "code",
   "execution_count": 182,
   "metadata": {
    "collapsed": false
   },
   "outputs": [
    {
     "name": "stdout",
     "output_type": "stream",
     "text": [
      "Article 1 DM: 59.09090909090909 G: 40.909090909090914 Total: 22\n",
      "Article 2 DM: 20.0 G: 80.0 Total: 15\n",
      "Article 3 DM: 85.18518518518519 G: 14.814814814814813 Total: 27\n",
      "Article 4 DM: 83.33333333333334 G: 16.666666666666664 Total: 12\n",
      "Article 5 DM: 23.076923076923077 G: 76.92307692307693 Total: 104\n",
      "Article 6 DM: 89.04109589041096 G: 10.95890410958904 Total: 73\n",
      "Article 7 DM: 89.04109589041096 G: 10.95890410958904 Total: 73\n",
      "Article 8 DM: 55.55555555555556 G: 44.44444444444444 Total: 9\n",
      "Article 9 DM: 58.333333333333336 G: 41.66666666666667 Total: 12\n",
      "Article 10 DM: 60.46511627906976 G: 39.53488372093023 Total: 43\n",
      "Article 11 DM: 24.0 G: 76.0 Total: 25\n",
      "Article 12 DM: 50.0 G: 50.0 Total: 24\n",
      "Article 13 DM: 63.1578947368421 G: 36.84210526315789 Total: 19\n",
      "Article 14 DM: 1.36986301369863 G: 98.63013698630137 Total: 73\n",
      "DM Total: 51.2241054613936 G Total: 48.7758945386064\n"
     ]
    }
   ],
   "source": [
    "counter = 1\n",
    "totaldm = 0;\n",
    "totalg = 0;\n",
    "total = 0;\n",
    "\n",
    "for summary in dmgfilteredsumms:\n",
    "    sources = list(map(lambda sentence: sentence[\"source\"], summary))\n",
    "    \n",
    "    totaldm += sources.count('daily-mail')\n",
    "    totalg += sources.count('the-guardian-uk')\n",
    "    total += len(sources)\n",
    "    dmcount = (sources.count('daily-mail')/len(sources))*100\n",
    "    guardiancount = (sources.count('the-guardian-uk')/len(sources))*100\n",
    "    print(\"Article\", counter, \"DM:\", dmcount, \"G:\", guardiancount, \"Total:\",len(sources))\n",
    "    counter = counter + 1\n",
    "    \n",
    "print(\"DM Total:\", (totaldm/total)*100, \"G Total:\", (totalg/total)*100)"
   ]
  },
  {
   "cell_type": "code",
   "execution_count": null,
   "metadata": {
    "collapsed": true
   },
   "outputs": [],
   "source": []
  },
  {
   "cell_type": "code",
   "execution_count": null,
   "metadata": {
    "collapsed": true
   },
   "outputs": [],
   "source": []
  },
  {
   "cell_type": "code",
   "execution_count": null,
   "metadata": {
    "collapsed": true
   },
   "outputs": [],
   "source": []
  },
  {
   "cell_type": "code",
   "execution_count": null,
   "metadata": {
    "collapsed": true
   },
   "outputs": [],
   "source": []
  },
  {
   "cell_type": "code",
   "execution_count": null,
   "metadata": {
    "collapsed": true
   },
   "outputs": [],
   "source": []
  },
  {
   "cell_type": "code",
   "execution_count": null,
   "metadata": {
    "collapsed": true
   },
   "outputs": [],
   "source": []
  },
  {
   "cell_type": "code",
   "execution_count": null,
   "metadata": {
    "collapsed": true
   },
   "outputs": [],
   "source": []
  },
  {
   "cell_type": "code",
   "execution_count": null,
   "metadata": {
    "collapsed": true
   },
   "outputs": [],
   "source": []
  },
  {
   "cell_type": "code",
   "execution_count": null,
   "metadata": {
    "collapsed": true
   },
   "outputs": [],
   "source": []
  },
  {
   "cell_type": "code",
   "execution_count": null,
   "metadata": {
    "collapsed": true
   },
   "outputs": [],
   "source": []
  },
  {
   "cell_type": "code",
   "execution_count": null,
   "metadata": {
    "collapsed": true
   },
   "outputs": [],
   "source": []
  },
  {
   "cell_type": "code",
   "execution_count": null,
   "metadata": {
    "collapsed": true
   },
   "outputs": [],
   "source": []
  },
  {
   "cell_type": "code",
   "execution_count": 169,
   "metadata": {
    "collapsed": false
   },
   "outputs": [
    {
     "data": {
      "text/plain": [
       "[{'absoluteSentencePosition': 0,\n",
       "  'identifier': 0,\n",
       "  'relatedNodes': [],\n",
       "  'sentence': \"It was an historic day at America's highest court on Thursday, as the Supreme Court justices gathered for a rare group portrait.\",\n",
       "  'sentencePosition': 0.0,\n",
       "  'source': 'daily-mail'},\n",
       " {'absoluteSentencePosition': 0,\n",
       "  'identifier': 13,\n",
       "  'relatedNodes': [],\n",
       "  'sentence': 'The most important international agreement to tackle climate change is about to be dealt a severe blow – but Theresa May is nowhere to be found.',\n",
       "  'sentencePosition': 0.0,\n",
       "  'source': 'the-guardian-uk'},\n",
       " {'absoluteSentencePosition': 1,\n",
       "  'identifier': 14,\n",
       "  'relatedNodes': [],\n",
       "  'sentence': 'Donald Trump is expected to withdraw the United States from the Paris agreement, in which 195 countries signed up to ambitious targets to arrest the rise in global temperatures.',\n",
       "  'sentencePosition': 0.03225806451612903,\n",
       "  'source': 'the-guardian-uk'},\n",
       " {'absoluteSentencePosition': 2,\n",
       "  'identifier': 15,\n",
       "  'relatedNodes': [],\n",
       "  'sentence': 'Such a decision from the US will heighten the risk of a climate disaster, with all the damaging consequences to food supply, the global economy and our security.',\n",
       "  'sentencePosition': 0.06451612903225806,\n",
       "  'source': 'the-guardian-uk'},\n",
       " {'absoluteSentencePosition': 1,\n",
       "  'identifier': 1,\n",
       "  'relatedNodes': [],\n",
       "  'sentence': 'The justices had their group photo taken to mark the addition of Associate Justice Neil Gorsuch to the court.',\n",
       "  'sentencePosition': 0.07692307692307693,\n",
       "  'source': 'daily-mail'},\n",
       " {'absoluteSentencePosition': 3,\n",
       "  'identifier': 16,\n",
       "  'relatedNodes': [],\n",
       "  'sentence': 'Related: World urges Donald Trump not to dump Paris climate agreement Experts in the UK have made clear that climate change is a grave threat to national security, and Trump’s own defence secretary has issued the same warning for the US.',\n",
       "  'sentencePosition': 0.0967741935483871,\n",
       "  'source': 'the-guardian-uk'},\n",
       " {'absoluteSentencePosition': 4,\n",
       "  'identifier': 17,\n",
       "  'relatedNodes': [],\n",
       "  'sentence': 'Donald Trump’s actions put us all in greater peril.',\n",
       "  'sentencePosition': 0.12903225806451613,\n",
       "  'source': 'the-guardian-uk'},\n",
       " {'absoluteSentencePosition': 2,\n",
       "  'identifier': 2,\n",
       "  'relatedNodes': [],\n",
       "  'sentence': 'The last time that the group gathered for a picture was in 2010, when Elena Kagan was confirmed.',\n",
       "  'sentencePosition': 0.15384615384615385,\n",
       "  'source': 'daily-mail'},\n",
       " {'absoluteSentencePosition': 5,\n",
       "  'identifier': 18,\n",
       "  'relatedNodes': [],\n",
       "  'sentence': 'Yet in the face of this threat, May is silent.',\n",
       "  'sentencePosition': 0.16129032258064516,\n",
       "  'source': 'the-guardian-uk'},\n",
       " {'absoluteSentencePosition': 6,\n",
       "  'identifier': 19,\n",
       "  'relatedNodes': [],\n",
       "  'sentence': 'We have a prime minister who is weak on the world stage and complicit in Trump’s world-harming act.',\n",
       "  'sentencePosition': 0.1935483870967742,\n",
       "  'source': 'the-guardian-uk'},\n",
       " {'absoluteSentencePosition': 3,\n",
       "  'identifier': 3,\n",
       "  'relatedNodes': [],\n",
       "  'sentence': 'President Donald Trump nominated Gorsuch as the replacement for Antonin Scalia, who died last year.',\n",
       "  'sentencePosition': 0.23076923076923078,\n",
       "  'source': 'daily-mail'},\n",
       " {'absoluteSentencePosition': 4,\n",
       "  'identifier': 4,\n",
       "  'relatedNodes': [],\n",
       "  'sentence': 'Scalia was the most senior associate justice on the court at the time of his death, so his departure has shifted the order of the justices considerably.',\n",
       "  'sentencePosition': 0.3076923076923077,\n",
       "  'source': 'daily-mail'},\n",
       " {'absoluteSentencePosition': 5,\n",
       "  'identifier': 5,\n",
       "  'relatedNodes': [],\n",
       "  'sentence': \"The most senior member of the court now is Gorsuch's own mentor Anthony Kennedy, who takes the seat of honor on Chief Justice John Roberts' right.\",\n",
       "  'sentencePosition': 0.38461538461538464,\n",
       "  'source': 'daily-mail'},\n",
       " {'absoluteSentencePosition': 14,\n",
       "  'identifier': 27,\n",
       "  'relatedNodes': [],\n",
       "  'sentence': 'What’s most disappointing about May’s failure is that Britain played such a pivotal role in securing the agreement May’s lack of leadership on this issue is appalling, but perhaps not all that surprising.',\n",
       "  'sentencePosition': 0.45161290322580644,\n",
       "  'source': 'the-guardian-uk'},\n",
       " {'absoluteSentencePosition': 6,\n",
       "  'identifier': 6,\n",
       "  'relatedNodes': [],\n",
       "  'sentence': 'Second in seniority is Clarence Thomas, who gets the seat to the left of Roberts.',\n",
       "  'sentencePosition': 0.46153846153846156,\n",
       "  'source': 'daily-mail'},\n",
       " {'absoluteSentencePosition': 7,\n",
       "  'identifier': 7,\n",
       "  'relatedNodes': [],\n",
       "  'sentence': \"Ruth Bader Ginsberg gets the next best seat to Kennedy's right and Stephen Breyer gets a seat for the first time, moving down to the chair to Thomas' left.\",\n",
       "  'sentencePosition': 0.5384615384615384,\n",
       "  'source': 'daily-mail'},\n",
       " {'absoluteSentencePosition': 19,\n",
       "  'identifier': 32,\n",
       "  'relatedNodes': [],\n",
       "  'sentence': 'What’s most disappointing about May’s failure on climate change is that Britain played such a pivotal role in securing international agreement on it in the first place.',\n",
       "  'sentencePosition': 0.6129032258064516,\n",
       "  'source': 'the-guardian-uk'},\n",
       " {'absoluteSentencePosition': 8,\n",
       "  'identifier': 8,\n",
       "  'relatedNodes': [],\n",
       "  'sentence': 'The fifth and sixth most senior justices on the court are now Samuel Alito and Sonia Sotomayor respectively, who stand and flank Roberts.',\n",
       "  'sentencePosition': 0.6153846153846154,\n",
       "  'source': 'daily-mail'},\n",
       " {'absoluteSentencePosition': 9,\n",
       "  'identifier': 9,\n",
       "  'relatedNodes': [],\n",
       "  'sentence': 'Gorsuch replaces Elena Kagan as the newbie on the court, standing in the back right of the photo while Kagan shifts to the back left.',\n",
       "  'sentencePosition': 0.6923076923076923,\n",
       "  'source': 'daily-mail'},\n",
       " {'absoluteSentencePosition': 10,\n",
       "  'identifier': 10,\n",
       "  'relatedNodes': [],\n",
       "  'sentence': \"Gorsuch's nomination to the court was somewhat controversial, since Scalia died while President Obama was still in office.\",\n",
       "  'sentencePosition': 0.7692307692307693,\n",
       "  'source': 'daily-mail'},\n",
       " {'absoluteSentencePosition': 11,\n",
       "  'identifier': 11,\n",
       "  'relatedNodes': [],\n",
       "  'sentence': \"Obama nominated Merrick Garland as Scalia's replacement, but the Republican-controlled Congress refused to have a hearing until the outcome of the presidential election, which turned in their favor.\",\n",
       "  'sentencePosition': 0.8461538461538461,\n",
       "  'source': 'daily-mail'},\n",
       " {'absoluteSentencePosition': 12,\n",
       "  'identifier': 12,\n",
       "  'relatedNodes': [],\n",
       "  'sentence': 'Gorsuch, 49, was confirmed by Congress on April 7, and sworn in as the 101st Supreme Court associate justice the following day.',\n",
       "  'sentencePosition': 0.9230769230769231,\n",
       "  'source': 'daily-mail'}]"
      ]
     },
     "execution_count": 169,
     "metadata": {},
     "output_type": "execute_result"
    }
   ],
   "source": [
    "dmgfilteredsumms[0]"
   ]
  },
  {
   "cell_type": "code",
   "execution_count": null,
   "metadata": {
    "collapsed": true
   },
   "outputs": [],
   "source": []
  },
  {
   "cell_type": "code",
   "execution_count": null,
   "metadata": {
    "collapsed": true
   },
   "outputs": [],
   "source": []
  },
  {
   "cell_type": "code",
   "execution_count": null,
   "metadata": {
    "collapsed": true
   },
   "outputs": [],
   "source": []
  },
  {
   "cell_type": "code",
   "execution_count": null,
   "metadata": {
    "collapsed": true
   },
   "outputs": [],
   "source": []
  },
  {
   "cell_type": "code",
   "execution_count": null,
   "metadata": {
    "collapsed": true
   },
   "outputs": [],
   "source": []
  },
  {
   "cell_type": "code",
   "execution_count": null,
   "metadata": {
    "collapsed": true
   },
   "outputs": [],
   "source": []
  },
  {
   "cell_type": "code",
   "execution_count": null,
   "metadata": {
    "collapsed": true
   },
   "outputs": [],
   "source": []
  },
  {
   "cell_type": "code",
   "execution_count": null,
   "metadata": {
    "collapsed": true
   },
   "outputs": [],
   "source": []
  },
  {
   "cell_type": "code",
   "execution_count": null,
   "metadata": {
    "collapsed": true
   },
   "outputs": [],
   "source": []
  },
  {
   "cell_type": "code",
   "execution_count": null,
   "metadata": {
    "collapsed": true
   },
   "outputs": [],
   "source": []
  },
  {
   "cell_type": "code",
   "execution_count": null,
   "metadata": {
    "collapsed": true
   },
   "outputs": [],
   "source": []
  },
  {
   "cell_type": "code",
   "execution_count": null,
   "metadata": {
    "collapsed": true
   },
   "outputs": [],
   "source": []
  },
  {
   "cell_type": "code",
   "execution_count": null,
   "metadata": {
    "collapsed": true
   },
   "outputs": [],
   "source": []
  },
  {
   "cell_type": "code",
   "execution_count": null,
   "metadata": {
    "collapsed": true
   },
   "outputs": [],
   "source": []
  },
  {
   "cell_type": "code",
   "execution_count": null,
   "metadata": {
    "collapsed": true
   },
   "outputs": [],
   "source": []
  },
  {
   "cell_type": "code",
   "execution_count": null,
   "metadata": {
    "collapsed": true
   },
   "outputs": [],
   "source": []
  },
  {
   "cell_type": "code",
   "execution_count": null,
   "metadata": {
    "collapsed": true
   },
   "outputs": [],
   "source": []
  },
  {
   "cell_type": "code",
   "execution_count": null,
   "metadata": {
    "collapsed": true
   },
   "outputs": [],
   "source": []
  },
  {
   "cell_type": "code",
   "execution_count": null,
   "metadata": {
    "collapsed": true
   },
   "outputs": [],
   "source": []
  },
  {
   "cell_type": "code",
   "execution_count": null,
   "metadata": {
    "collapsed": true
   },
   "outputs": [],
   "source": []
  },
  {
   "cell_type": "code",
   "execution_count": null,
   "metadata": {
    "collapsed": true
   },
   "outputs": [],
   "source": []
  },
  {
   "cell_type": "code",
   "execution_count": null,
   "metadata": {
    "collapsed": true
   },
   "outputs": [],
   "source": []
  },
  {
   "cell_type": "code",
   "execution_count": null,
   "metadata": {
    "collapsed": true
   },
   "outputs": [],
   "source": []
  },
  {
   "cell_type": "code",
   "execution_count": null,
   "metadata": {
    "collapsed": true
   },
   "outputs": [],
   "source": []
  },
  {
   "cell_type": "code",
   "execution_count": null,
   "metadata": {
    "collapsed": true
   },
   "outputs": [],
   "source": []
  },
  {
   "cell_type": "code",
   "execution_count": null,
   "metadata": {
    "collapsed": true
   },
   "outputs": [],
   "source": []
  },
  {
   "cell_type": "code",
   "execution_count": null,
   "metadata": {
    "collapsed": true
   },
   "outputs": [],
   "source": []
  },
  {
   "cell_type": "code",
   "execution_count": null,
   "metadata": {
    "collapsed": true
   },
   "outputs": [],
   "source": []
  },
  {
   "cell_type": "code",
   "execution_count": null,
   "metadata": {
    "collapsed": true
   },
   "outputs": [],
   "source": []
  },
  {
   "cell_type": "code",
   "execution_count": null,
   "metadata": {
    "collapsed": true
   },
   "outputs": [],
   "source": []
  },
  {
   "cell_type": "code",
   "execution_count": null,
   "metadata": {
    "collapsed": true
   },
   "outputs": [],
   "source": []
  },
  {
   "cell_type": "code",
   "execution_count": null,
   "metadata": {
    "collapsed": true
   },
   "outputs": [],
   "source": []
  },
  {
   "cell_type": "code",
   "execution_count": null,
   "metadata": {
    "collapsed": true
   },
   "outputs": [],
   "source": []
  },
  {
   "cell_type": "code",
   "execution_count": null,
   "metadata": {
    "collapsed": true
   },
   "outputs": [],
   "source": []
  },
  {
   "cell_type": "code",
   "execution_count": null,
   "metadata": {
    "collapsed": true
   },
   "outputs": [],
   "source": []
  },
  {
   "cell_type": "code",
   "execution_count": null,
   "metadata": {
    "collapsed": true
   },
   "outputs": [],
   "source": []
  },
  {
   "cell_type": "code",
   "execution_count": null,
   "metadata": {
    "collapsed": true
   },
   "outputs": [],
   "source": []
  },
  {
   "cell_type": "code",
   "execution_count": null,
   "metadata": {
    "collapsed": true
   },
   "outputs": [],
   "source": []
  },
  {
   "cell_type": "code",
   "execution_count": null,
   "metadata": {
    "collapsed": true
   },
   "outputs": [],
   "source": []
  },
  {
   "cell_type": "code",
   "execution_count": null,
   "metadata": {
    "collapsed": true
   },
   "outputs": [],
   "source": []
  },
  {
   "cell_type": "code",
   "execution_count": null,
   "metadata": {
    "collapsed": true
   },
   "outputs": [],
   "source": []
  },
  {
   "cell_type": "code",
   "execution_count": null,
   "metadata": {
    "collapsed": true
   },
   "outputs": [],
   "source": []
  },
  {
   "cell_type": "code",
   "execution_count": null,
   "metadata": {
    "collapsed": true
   },
   "outputs": [],
   "source": []
  },
  {
   "cell_type": "code",
   "execution_count": null,
   "metadata": {
    "collapsed": true
   },
   "outputs": [],
   "source": []
  },
  {
   "cell_type": "code",
   "execution_count": null,
   "metadata": {
    "collapsed": true
   },
   "outputs": [],
   "source": []
  },
  {
   "cell_type": "code",
   "execution_count": null,
   "metadata": {
    "collapsed": true
   },
   "outputs": [],
   "source": []
  },
  {
   "cell_type": "code",
   "execution_count": null,
   "metadata": {
    "collapsed": true
   },
   "outputs": [],
   "source": []
  },
  {
   "cell_type": "code",
   "execution_count": null,
   "metadata": {
    "collapsed": true
   },
   "outputs": [],
   "source": []
  },
  {
   "cell_type": "code",
   "execution_count": null,
   "metadata": {
    "collapsed": true
   },
   "outputs": [],
   "source": []
  },
  {
   "cell_type": "code",
   "execution_count": null,
   "metadata": {
    "collapsed": true
   },
   "outputs": [],
   "source": []
  },
  {
   "cell_type": "code",
   "execution_count": null,
   "metadata": {
    "collapsed": true
   },
   "outputs": [],
   "source": []
  },
  {
   "cell_type": "code",
   "execution_count": null,
   "metadata": {
    "collapsed": true
   },
   "outputs": [],
   "source": []
  },
  {
   "cell_type": "code",
   "execution_count": 97,
   "metadata": {
    "collapsed": false
   },
   "outputs": [
    {
     "name": "stdout",
     "output_type": "stream",
     "text": [
      "8856\n"
     ]
    }
   ],
   "source": [
    "print(articles.count())"
   ]
  },
  {
   "cell_type": "code",
   "execution_count": null,
   "metadata": {
    "collapsed": true
   },
   "outputs": [],
   "source": []
  },
  {
   "cell_type": "code",
   "execution_count": null,
   "metadata": {
    "collapsed": true
   },
   "outputs": [],
   "source": []
  },
  {
   "cell_type": "code",
   "execution_count": null,
   "metadata": {
    "collapsed": true
   },
   "outputs": [],
   "source": []
  },
  {
   "cell_type": "code",
   "execution_count": null,
   "metadata": {
    "collapsed": true
   },
   "outputs": [],
   "source": []
  },
  {
   "cell_type": "code",
   "execution_count": null,
   "metadata": {
    "collapsed": true
   },
   "outputs": [],
   "source": []
  },
  {
   "cell_type": "code",
   "execution_count": null,
   "metadata": {
    "collapsed": true
   },
   "outputs": [],
   "source": []
  },
  {
   "cell_type": "code",
   "execution_count": null,
   "metadata": {
    "collapsed": true
   },
   "outputs": [],
   "source": []
  },
  {
   "cell_type": "code",
   "execution_count": null,
   "metadata": {
    "collapsed": true
   },
   "outputs": [],
   "source": []
  },
  {
   "cell_type": "code",
   "execution_count": null,
   "metadata": {
    "collapsed": true
   },
   "outputs": [],
   "source": []
  },
  {
   "cell_type": "code",
   "execution_count": null,
   "metadata": {
    "collapsed": true
   },
   "outputs": [],
   "source": []
  },
  {
   "cell_type": "code",
   "execution_count": null,
   "metadata": {
    "collapsed": true
   },
   "outputs": [],
   "source": []
  },
  {
   "cell_type": "code",
   "execution_count": null,
   "metadata": {
    "collapsed": true
   },
   "outputs": [],
   "source": []
  },
  {
   "cell_type": "code",
   "execution_count": null,
   "metadata": {
    "collapsed": true
   },
   "outputs": [],
   "source": []
  },
  {
   "cell_type": "code",
   "execution_count": null,
   "metadata": {
    "collapsed": true
   },
   "outputs": [],
   "source": []
  },
  {
   "cell_type": "code",
   "execution_count": null,
   "metadata": {
    "collapsed": true
   },
   "outputs": [],
   "source": []
  },
  {
   "cell_type": "code",
   "execution_count": null,
   "metadata": {
    "collapsed": true
   },
   "outputs": [],
   "source": []
  },
  {
   "cell_type": "code",
   "execution_count": null,
   "metadata": {
    "collapsed": true
   },
   "outputs": [],
   "source": []
  },
  {
   "cell_type": "code",
   "execution_count": null,
   "metadata": {
    "collapsed": true
   },
   "outputs": [],
   "source": []
  },
  {
   "cell_type": "code",
   "execution_count": null,
   "metadata": {
    "collapsed": true
   },
   "outputs": [],
   "source": []
  },
  {
   "cell_type": "code",
   "execution_count": null,
   "metadata": {
    "collapsed": true
   },
   "outputs": [],
   "source": []
  },
  {
   "cell_type": "code",
   "execution_count": null,
   "metadata": {
    "collapsed": true
   },
   "outputs": [],
   "source": []
  },
  {
   "cell_type": "code",
   "execution_count": null,
   "metadata": {
    "collapsed": true
   },
   "outputs": [],
   "source": []
  },
  {
   "cell_type": "code",
   "execution_count": null,
   "metadata": {
    "collapsed": true
   },
   "outputs": [],
   "source": []
  },
  {
   "cell_type": "code",
   "execution_count": null,
   "metadata": {
    "collapsed": true
   },
   "outputs": [],
   "source": []
  },
  {
   "cell_type": "code",
   "execution_count": null,
   "metadata": {
    "collapsed": true
   },
   "outputs": [],
   "source": []
  },
  {
   "cell_type": "code",
   "execution_count": null,
   "metadata": {
    "collapsed": true
   },
   "outputs": [],
   "source": []
  },
  {
   "cell_type": "code",
   "execution_count": null,
   "metadata": {
    "collapsed": true
   },
   "outputs": [],
   "source": []
  },
  {
   "cell_type": "code",
   "execution_count": null,
   "metadata": {
    "collapsed": true
   },
   "outputs": [],
   "source": []
  },
  {
   "cell_type": "code",
   "execution_count": null,
   "metadata": {
    "collapsed": true
   },
   "outputs": [],
   "source": []
  },
  {
   "cell_type": "code",
   "execution_count": null,
   "metadata": {
    "collapsed": true
   },
   "outputs": [],
   "source": []
  },
  {
   "cell_type": "code",
   "execution_count": null,
   "metadata": {
    "collapsed": true
   },
   "outputs": [],
   "source": []
  },
  {
   "cell_type": "code",
   "execution_count": null,
   "metadata": {
    "collapsed": true
   },
   "outputs": [],
   "source": []
  },
  {
   "cell_type": "code",
   "execution_count": null,
   "metadata": {
    "collapsed": true
   },
   "outputs": [],
   "source": []
  },
  {
   "cell_type": "code",
   "execution_count": null,
   "metadata": {
    "collapsed": true
   },
   "outputs": [],
   "source": []
  },
  {
   "cell_type": "code",
   "execution_count": null,
   "metadata": {
    "collapsed": true
   },
   "outputs": [],
   "source": []
  },
  {
   "cell_type": "code",
   "execution_count": null,
   "metadata": {
    "collapsed": true
   },
   "outputs": [],
   "source": []
  },
  {
   "cell_type": "code",
   "execution_count": null,
   "metadata": {
    "collapsed": true
   },
   "outputs": [],
   "source": []
  },
  {
   "cell_type": "code",
   "execution_count": null,
   "metadata": {
    "collapsed": true
   },
   "outputs": [],
   "source": []
  },
  {
   "cell_type": "code",
   "execution_count": null,
   "metadata": {
    "collapsed": true
   },
   "outputs": [],
   "source": []
  },
  {
   "cell_type": "code",
   "execution_count": null,
   "metadata": {
    "collapsed": true
   },
   "outputs": [],
   "source": []
  },
  {
   "cell_type": "code",
   "execution_count": null,
   "metadata": {
    "collapsed": true
   },
   "outputs": [],
   "source": []
  },
  {
   "cell_type": "code",
   "execution_count": null,
   "metadata": {
    "collapsed": true
   },
   "outputs": [],
   "source": []
  },
  {
   "cell_type": "code",
   "execution_count": null,
   "metadata": {
    "collapsed": true
   },
   "outputs": [],
   "source": []
  },
  {
   "cell_type": "code",
   "execution_count": null,
   "metadata": {
    "collapsed": true
   },
   "outputs": [],
   "source": []
  },
  {
   "cell_type": "code",
   "execution_count": null,
   "metadata": {
    "collapsed": true
   },
   "outputs": [],
   "source": []
  },
  {
   "cell_type": "code",
   "execution_count": null,
   "metadata": {
    "collapsed": true
   },
   "outputs": [],
   "source": []
  },
  {
   "cell_type": "code",
   "execution_count": null,
   "metadata": {
    "collapsed": true
   },
   "outputs": [],
   "source": []
  },
  {
   "cell_type": "code",
   "execution_count": null,
   "metadata": {
    "collapsed": true
   },
   "outputs": [],
   "source": []
  },
  {
   "cell_type": "code",
   "execution_count": null,
   "metadata": {
    "collapsed": true
   },
   "outputs": [],
   "source": []
  },
  {
   "cell_type": "code",
   "execution_count": null,
   "metadata": {
    "collapsed": true
   },
   "outputs": [],
   "source": []
  },
  {
   "cell_type": "code",
   "execution_count": null,
   "metadata": {
    "collapsed": true
   },
   "outputs": [],
   "source": []
  },
  {
   "cell_type": "code",
   "execution_count": null,
   "metadata": {
    "collapsed": true
   },
   "outputs": [],
   "source": []
  },
  {
   "cell_type": "code",
   "execution_count": null,
   "metadata": {
    "collapsed": true
   },
   "outputs": [],
   "source": []
  },
  {
   "cell_type": "code",
   "execution_count": null,
   "metadata": {
    "collapsed": true
   },
   "outputs": [],
   "source": []
  },
  {
   "cell_type": "code",
   "execution_count": null,
   "metadata": {
    "collapsed": true
   },
   "outputs": [],
   "source": []
  },
  {
   "cell_type": "code",
   "execution_count": null,
   "metadata": {
    "collapsed": true
   },
   "outputs": [],
   "source": []
  },
  {
   "cell_type": "code",
   "execution_count": null,
   "metadata": {
    "collapsed": true
   },
   "outputs": [],
   "source": []
  },
  {
   "cell_type": "code",
   "execution_count": null,
   "metadata": {
    "collapsed": true
   },
   "outputs": [],
   "source": []
  },
  {
   "cell_type": "code",
   "execution_count": null,
   "metadata": {
    "collapsed": true
   },
   "outputs": [],
   "source": []
  },
  {
   "cell_type": "code",
   "execution_count": null,
   "metadata": {
    "collapsed": true
   },
   "outputs": [],
   "source": []
  },
  {
   "cell_type": "code",
   "execution_count": null,
   "metadata": {
    "collapsed": true
   },
   "outputs": [],
   "source": []
  },
  {
   "cell_type": "code",
   "execution_count": null,
   "metadata": {
    "collapsed": true
   },
   "outputs": [],
   "source": []
  },
  {
   "cell_type": "code",
   "execution_count": null,
   "metadata": {
    "collapsed": true
   },
   "outputs": [],
   "source": []
  }
 ],
 "metadata": {
  "celltoolbar": "Raw Cell Format",
  "kernelspec": {
   "display_name": "Python 3",
   "language": "python",
   "name": "python3"
  },
  "language_info": {
   "codemirror_mode": {
    "name": "ipython",
    "version": 3
   },
   "file_extension": ".py",
   "mimetype": "text/x-python",
   "name": "python",
   "nbconvert_exporter": "python",
   "pygments_lexer": "ipython3",
   "version": "3.6.0"
  }
 },
 "nbformat": 4,
 "nbformat_minor": 2
}
